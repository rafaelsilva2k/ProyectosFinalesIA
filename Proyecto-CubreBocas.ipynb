{
 "cells": [
  {
   "cell_type": "markdown",
   "metadata": {},
   "source": [
    "# Reconocimiento de caras usando Cascade trainer\n"
   ]
  },
  {
   "cell_type": "markdown",
   "metadata": {},
   "source": [
    "## Video prueba del cascade\n",
    "\n",
    "[video 4](https://youtu.be/-owuxmD4Ar0)\n",
    "\n",
    "[video 3](https://youtu.be/CByQNcaq7eA)\n",
    "\n",
    "[video 2](https://youtu.be/shgQle4NJqI)\n",
    "\n",
    "[video 1](https://youtu.be/1yZ_89qgcVE)"
   ]
  },
  {
   "cell_type": "markdown",
   "metadata": {},
   "source": [
    "### Codigo para sacar las fotos"
   ]
  },
  {
   "cell_type": "code",
   "execution_count": 11,
   "metadata": {},
   "outputs": [],
   "source": [
    "import cv2 as cv\n",
    "cap = cv.VideoCapture(0)\n",
    "i=3310\n",
    "while True:\n",
    "    ret, frame = cap.read()\n",
    "    frame = cv.rectangle(frame,(190,100),(450,410),(0,255,0),2)\n",
    "    cara = frame[50:400, 200:400]\n",
    "    cara1 = cv.resize(cara,(30,30))\n",
    "    cv.imshow('rostro',frame)\n",
    "    cv.imshow('cara',cara)\n",
    "    cv.imshow('cara1',cara1)\n",
    "\n",
    "    k = cv.waitKey(1)\n",
    "    if k == ord('s'):\n",
    "        i=i+1\n",
    "        cv.imwrite('C:\\\\Users\\\\ocvio\\\\Documents\\\\PrgrPython\\\\IA\\\\DataSetCarasCB\\\\p\\\\'+str(i)+'.jpg',cara1)\n",
    "    if k == ord('q'):\n",
    "        break\n",
    "\n",
    "cap.release()\n",
    "cv.destroyAllWindows()"
   ]
  },
  {
   "cell_type": "markdown",
   "metadata": {},
   "source": [
    "### Pruebas del Reconocimiento 1 \n",
    "\n",
    "En esta prueba con ese xml ya empieza a detectar mejor la cara con cubreboca, a veces reconce sin pero apartir de la nariz para arriba"
   ]
  },
  {
   "cell_type": "code",
   "execution_count": 6,
   "metadata": {},
   "outputs": [],
   "source": [
    "import cv2 as cv\n",
    "rostro = cv.CascadeClassifier('C:\\\\Users\\\\ocvio\\\\Documents\\\\PrgrPython\\\\IA\\\\Clasificadores\\\\cascade1.xml')\n",
    "cap = cv.VideoCapture(0)\n",
    "while True:\n",
    "    ret, frame = cap.read()\n",
    "    gray = cv.cvtColor(frame, cv.COLOR_BGR2GRAY)\n",
    "    rostros = rostro.detectMultiScale(gray, 9, 110, minSize=(70,78))\n",
    "    for(x,y,w,h) in rostros:\n",
    "        frame = cv.rectangle(frame, (x,y), (x+w, y+h), (0,255,0), 2)\n",
    "\n",
    "    cv.imshow('rostros',frame)\n",
    "    k = cv.waitKey(1)\n",
    "    if k == ord('q'):\n",
    "        break\n",
    "\n",
    "cap.release()\n",
    "cv.destroyAllWindows()"
   ]
  },
  {
   "cell_type": "markdown",
   "metadata": {},
   "source": [
    "#### Prueba 2\n",
    "Probe con otro data se con 95% de fotos pos de 1450 que hay y con 2300 negativas, va mejorando el dataset, tiene fallas pero reconoce mejor"
   ]
  },
  {
   "cell_type": "code",
   "execution_count": 1,
   "metadata": {},
   "outputs": [
    {
     "ename": "NameError",
     "evalue": "name 'cv' is not defined",
     "output_type": "error",
     "traceback": [
      "\u001b[1;31m---------------------------------------------------------------------------\u001b[0m",
      "\u001b[1;31mNameError\u001b[0m                                 Traceback (most recent call last)",
      "Cell \u001b[1;32mIn[1], line 4\u001b[0m\n\u001b[0;32m      1\u001b[0m \u001b[38;5;28;01mimport\u001b[39;00m \u001b[38;5;21;01mcv2\u001b[39;00m\n\u001b[0;32m      3\u001b[0m cap \u001b[38;5;241m=\u001b[39m cv2\u001b[38;5;241m.\u001b[39mVideoCapture(\u001b[38;5;241m0\u001b[39m,cv2\u001b[38;5;241m.\u001b[39mCAP_DSHOW)\n\u001b[1;32m----> 4\u001b[0m CaraCortada \u001b[38;5;241m=\u001b[39m \u001b[43mcv\u001b[49m\u001b[38;5;241m.\u001b[39mCascadeClassifier(\u001b[38;5;124m'\u001b[39m\u001b[38;5;124mC:\u001b[39m\u001b[38;5;130;01m\\\\\u001b[39;00m\u001b[38;5;124mUsers\u001b[39m\u001b[38;5;130;01m\\\\\u001b[39;00m\u001b[38;5;124mocvio\u001b[39m\u001b[38;5;130;01m\\\\\u001b[39;00m\u001b[38;5;124mDocuments\u001b[39m\u001b[38;5;130;01m\\\\\u001b[39;00m\u001b[38;5;124mPrgrPython\u001b[39m\u001b[38;5;130;01m\\\\\u001b[39;00m\u001b[38;5;124mIA\u001b[39m\u001b[38;5;130;01m\\\\\u001b[39;00m\u001b[38;5;124mClasificadores\u001b[39m\u001b[38;5;130;01m\\\\\u001b[39;00m\u001b[38;5;124mcascade7.xml\u001b[39m\u001b[38;5;124m'\u001b[39m)\n\u001b[0;32m      5\u001b[0m \u001b[38;5;28;01mwhile\u001b[39;00m \u001b[38;5;28;01mTrue\u001b[39;00m:\n\u001b[0;32m      7\u001b[0m     ret,frame \u001b[38;5;241m=\u001b[39m cap\u001b[38;5;241m.\u001b[39mread()\n",
      "\u001b[1;31mNameError\u001b[0m: name 'cv' is not defined"
     ]
    }
   ],
   "source": [
    "import cv2\n",
    "\n",
    "cap = cv2.VideoCapture(0,cv2.CAP_DSHOW)\n",
    "CaraCortada = cv.CascadeClassifier('C:\\\\Users\\\\ocvio\\\\Documents\\\\PrgrPython\\\\IA\\\\Clasificadores\\\\cascade6.xml')\n",
    "while True:\n",
    "    \n",
    "    ret,frame = cap.read()\n",
    "    gray = cv2.cvtColor(frame, cv2.COLOR_BGR2GRAY)\n",
    "\n",
    "    face = CaraCortada.detectMultiScale(gray,\n",
    "    scaleFactor = 9,\n",
    "    minNeighbors = 110,\n",
    "    minSize=(70,78))\n",
    "\n",
    "    for (x,y,w,h) in face:\n",
    "        cv2.rectangle(frame, (x,y),(x+w,y+h),(0,255,0),2)\n",
    "        cv2.putText(frame,'cubre bocas',(x,y-10),2,0.7,(0,255,0),2,cv2.LINE_AA)\n",
    "\n",
    "    cv2.imshow('frame',frame)\n",
    "    \n",
    "    if cv2.waitKey(1) == 27:\n",
    "        break\n",
    "cap.release()\n",
    "cv2.destroyAllWindows()"
   ]
  },
  {
   "cell_type": "markdown",
   "metadata": {},
   "source": [
    "### Prueba 3\n",
    "Aquí tengo 3010 fotos positivas y 4616 negativas"
   ]
  },
  {
   "cell_type": "code",
   "execution_count": null,
   "metadata": {},
   "outputs": [],
   "source": [
    "import cv2\n",
    "\n",
    "cap = cv2.VideoCapture(0,cv2.CAP_DSHOW)\n",
    "\n",
    "CaraCortada = cv2.CascadeClassifier('C:\\\\Users\\\\ocvio\\\\Documents\\\\PrgrPython\\\\IA\\\\DataSetCarasCB\\\\classifier\\\\cascade.xml')\n",
    "#CaraCortada = cv.CascadeClassifier('C:\\\\Users\\\\ocvio\\\\Documents\\\\PrgrPython\\\\IA\\\\Clasificadores\\\\cascade8.xml')\n",
    "while True:\n",
    "    \n",
    "    ret,frame = cap.read()\n",
    "    gray = cv2.cvtColor(frame, cv2.COLOR_BGR2GRAY)\n",
    "\n",
    "    face = CaraCortada.detectMultiScale(gray,\n",
    "    scaleFactor = 9,\n",
    "    minNeighbors = 110,\n",
    "    minSize=(70,78))\n",
    "\n",
    "    for (x,y,w,h) in face:\n",
    "        cv2.rectangle(frame, (x,y),(x+w,y+h),(0,255,0),2)\n",
    "        cv2.putText(frame,'cubre bocas',(x,y-10),2,0.7,(0,255,0),2,cv2.LINE_AA)\n",
    "\n",
    "    cv2.imshow('frame',frame)\n",
    "    \n",
    "    if cv2.waitKey(1) == 27:\n",
    "        break\n",
    "cap.release()\n",
    "cv2.destroyAllWindows()"
   ]
  },
  {
   "cell_type": "markdown",
   "metadata": {},
   "source": [
    "# Prueba Final\n",
    "\n",
    "- Número de positivas: 4770\n",
    "\n",
    "- Número de negativas: 5891\n",
    "\n",
    "- Porcentaje de positivas: 95% \n",
    "\n",
    "- Número de stages: 10\n",
    "\n",
    "- Tamaño de las fotos: 30x30\n",
    "\n",
    "Con el Detect MultiScale estuve probando configuraciones con:\n",
    "\n",
    ">scaleFactor = 5,\n",
    ">minNeighbors = 50\n",
    "\n",
    ">scaleFactor = 3,\n",
    ">minNeighbors = 50\n",
    "\n",
    ">scaleFactor = 7,\n",
    ">minNeighbors = 90\n",
    "\n",
    "Donde me empezo a reconocer mejor y funcionar mejor fua con las siguientes configuraciones\n",
    "\n",
    ">scaleFactor = 9\n",
    ">minNeighbors = 100\n",
    "\n",
    ">scaleFactor = 9,\n",
    ">minNeighbors = 110\n"
   ]
  },
  {
   "cell_type": "code",
   "execution_count": 6,
   "metadata": {},
   "outputs": [],
   "source": [
    "import cv2 as cv\n",
    "rostro = cv.CascadeClassifier('C:\\\\Users\\\\ocvio\\\\Documents\\\\PrgrPython\\\\IA\\\\DataSetCarasCB\\\\classifier\\\\cascade.xml')\n",
    "cap = cv.VideoCapture(0)\n",
    "while True:\n",
    "    ret, frame = cap.read()\n",
    "    gray = cv.cvtColor(frame, cv.COLOR_BGR2GRAY)\n",
    "    rostros = rostro.detectMultiScale(gray, 9, 110, minSize=(70,78))\n",
    "    for(x,y,w,h) in rostros:\n",
    "        frame = cv.rectangle(frame, (x,y), (x+w, y+h), (0,255,0), 2)\n",
    "\n",
    "    cv.imshow('rostros',frame)\n",
    "    k = cv.waitKey(1)\n",
    "    if k == ord('q'):\n",
    "        break\n",
    "\n",
    "cap.release()\n",
    "cv.destroyAllWindows()"
   ]
  }
 ],
 "metadata": {
  "kernelspec": {
   "display_name": "Python 3",
   "language": "python",
   "name": "python3"
  },
  "language_info": {
   "codemirror_mode": {
    "name": "ipython",
    "version": 3
   },
   "file_extension": ".py",
   "mimetype": "text/x-python",
   "name": "python",
   "nbconvert_exporter": "python",
   "pygments_lexer": "ipython3",
   "version": "3.10.7"
  }
 },
 "nbformat": 4,
 "nbformat_minor": 2
}
